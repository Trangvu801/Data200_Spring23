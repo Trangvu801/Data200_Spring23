{
 "cells": [
  {
   "cell_type": "code",
   "execution_count": 1,
   "id": "5e84449c",
   "metadata": {},
   "outputs": [
    {
     "name": "stdout",
     "output_type": "stream",
     "text": [
      "Defaulting to user installation because normal site-packages is not writeable\n",
      "Requirement already satisfied: ipython-sql in c:\\users\\bilene.fas\\appdata\\roaming\\python\\python39\\site-packages (0.5.0)\n",
      "Requirement already satisfied: ipython in c:\\program files\\arcgis\\pro\\bin\\python\\envs\\arcgispro-py3\\lib\\site-packages (from ipython-sql) (7.21.0)\n",
      "Requirement already satisfied: ipython-genutils in c:\\program files\\arcgis\\pro\\bin\\python\\envs\\arcgispro-py3\\lib\\site-packages (from ipython-sql) (0.2.0)\n",
      "Requirement already satisfied: prettytable in c:\\users\\bilene.fas\\appdata\\roaming\\python\\python39\\site-packages (from ipython-sql) (3.6.0)\n",
      "Requirement already satisfied: sqlparse in c:\\users\\bilene.fas\\appdata\\roaming\\python\\python39\\site-packages (from ipython-sql) (0.4.3)\n",
      "Requirement already satisfied: sqlalchemy>=2.0 in c:\\users\\bilene.fas\\appdata\\roaming\\python\\python39\\site-packages (from ipython-sql) (2.0.7)\n",
      "Requirement already satisfied: six in c:\\program files\\arcgis\\pro\\bin\\python\\envs\\arcgispro-py3\\lib\\site-packages (from ipython-sql) (1.16.0)\n",
      "Requirement already satisfied: greenlet!=0.4.17 in c:\\users\\bilene.fas\\appdata\\roaming\\python\\python39\\site-packages (from sqlalchemy>=2.0->ipython-sql) (2.0.2)\n",
      "Requirement already satisfied: typing-extensions>=4.2.0 in c:\\users\\bilene.fas\\appdata\\roaming\\python\\python39\\site-packages (from sqlalchemy>=2.0->ipython-sql) (4.5.0)\n",
      "Requirement already satisfied: traitlets>=4.2 in c:\\program files\\arcgis\\pro\\bin\\python\\envs\\arcgispro-py3\\lib\\site-packages (from ipython->ipython-sql) (5.1.1)\n",
      "Requirement already satisfied: pygments in c:\\program files\\arcgis\\pro\\bin\\python\\envs\\arcgispro-py3\\lib\\site-packages (from ipython->ipython-sql) (2.9.0)\n",
      "Requirement already satisfied: prompt-toolkit!=3.0.0,!=3.0.1,<3.1.0,>=2.0.0 in c:\\program files\\arcgis\\pro\\bin\\python\\envs\\arcgispro-py3\\lib\\site-packages (from ipython->ipython-sql) (3.0.5)\n",
      "Requirement already satisfied: colorama in c:\\program files\\arcgis\\pro\\bin\\python\\envs\\arcgispro-py3\\lib\\site-packages (from ipython->ipython-sql) (0.4.4)\n",
      "Requirement already satisfied: pickleshare in c:\\program files\\arcgis\\pro\\bin\\python\\envs\\arcgispro-py3\\lib\\site-packages (from ipython->ipython-sql) (0.7.5)\n",
      "Requirement already satisfied: jedi>=0.16 in c:\\program files\\arcgis\\pro\\bin\\python\\envs\\arcgispro-py3\\lib\\site-packages (from ipython->ipython-sql) (0.18.0)\n",
      "Requirement already satisfied: backcall in c:\\program files\\arcgis\\pro\\bin\\python\\envs\\arcgispro-py3\\lib\\site-packages (from ipython->ipython-sql) (0.2.0)\n",
      "Requirement already satisfied: decorator in c:\\program files\\arcgis\\pro\\bin\\python\\envs\\arcgispro-py3\\lib\\site-packages (from ipython->ipython-sql) (5.1.1)\n",
      "Requirement already satisfied: setuptools>=18.5 in c:\\program files\\arcgis\\pro\\bin\\python\\envs\\arcgispro-py3\\lib\\site-packages (from ipython->ipython-sql) (60.10.0)\n",
      "Requirement already satisfied: parso<0.9.0,>=0.8.0 in c:\\program files\\arcgis\\pro\\bin\\python\\envs\\arcgispro-py3\\lib\\site-packages (from jedi>=0.16->ipython->ipython-sql) (0.8.3)\n",
      "Requirement already satisfied: wcwidth in c:\\program files\\arcgis\\pro\\bin\\python\\envs\\arcgispro-py3\\lib\\site-packages (from prompt-toolkit!=3.0.0,!=3.0.1,<3.1.0,>=2.0.0->ipython->ipython-sql) (0.2.5)\n"
     ]
    }
   ],
   "source": [
    "! pip install ipython-sql"
   ]
  },
  {
   "cell_type": "code",
   "execution_count": 3,
   "id": "dfa6a92c",
   "metadata": {},
   "outputs": [],
   "source": [
    "%load_ext sql"
   ]
  },
  {
   "cell_type": "code",
   "execution_count": 8,
   "id": "aa86add1",
   "metadata": {},
   "outputs": [],
   "source": [
    "%sql sqlite:///C:\\Users\\bilene\\book.db"
   ]
  },
  {
   "cell_type": "code",
   "execution_count": 10,
   "id": "6f598be6",
   "metadata": {},
   "outputs": [
    {
     "name": "stdout",
     "output_type": "stream",
     "text": [
      " * sqlite:///C:\\Users\\bilene\\book.db\n",
      "Done.\n"
     ]
    }
   ],
   "source": [
    "output = %sql SELECT pop FROM indicators0"
   ]
  },
  {
   "cell_type": "code",
   "execution_count": 13,
   "id": "7a4d90df",
   "metadata": {},
   "outputs": [
    {
     "data": {
      "text/html": [
       "<div>\n",
       "<style scoped>\n",
       "    .dataframe tbody tr th:only-of-type {\n",
       "        vertical-align: middle;\n",
       "    }\n",
       "\n",
       "    .dataframe tbody tr th {\n",
       "        vertical-align: top;\n",
       "    }\n",
       "\n",
       "    .dataframe thead th {\n",
       "        text-align: right;\n",
       "    }\n",
       "</style>\n",
       "<table border=\"1\" class=\"dataframe\">\n",
       "  <thead>\n",
       "    <tr style=\"text-align: right;\">\n",
       "      <th></th>\n",
       "      <th>pop</th>\n",
       "    </tr>\n",
       "  </thead>\n",
       "  <tbody>\n",
       "    <tr>\n",
       "      <th>0</th>\n",
       "      <td>1386.40</td>\n",
       "    </tr>\n",
       "    <tr>\n",
       "      <th>1</th>\n",
       "      <td>66.87</td>\n",
       "    </tr>\n",
       "    <tr>\n",
       "      <th>2</th>\n",
       "      <td>66.06</td>\n",
       "    </tr>\n",
       "    <tr>\n",
       "      <th>3</th>\n",
       "      <td>1338.66</td>\n",
       "    </tr>\n",
       "    <tr>\n",
       "      <th>4</th>\n",
       "      <td>325.15</td>\n",
       "    </tr>\n",
       "  </tbody>\n",
       "</table>\n",
       "</div>"
      ],
      "text/plain": [
       "       pop\n",
       "0  1386.40\n",
       "1    66.87\n",
       "2    66.06\n",
       "3  1338.66\n",
       "4   325.15"
      ]
     },
     "execution_count": 13,
     "metadata": {},
     "output_type": "execute_result"
    }
   ],
   "source": [
    "import pandas as pd\n",
    "pd.DataFrame(output,columns=['pop'])"
   ]
  },
  {
   "cell_type": "code",
   "execution_count": 18,
   "id": "3b04ff62",
   "metadata": {},
   "outputs": [
    {
     "name": "stdout",
     "output_type": "stream",
     "text": [
      " * sqlite:///C:\\Users\\bilene\\book.db\n",
      "Done.\n",
      "Returning data to local variable output2\n"
     ]
    }
   ],
   "source": [
    "%%sql \n",
    "output2 <<\n",
    "SELECT pop \n",
    "FROM indicators0"
   ]
  },
  {
   "cell_type": "code",
   "execution_count": 19,
   "id": "31f7137c",
   "metadata": {},
   "outputs": [
    {
     "data": {
      "text/html": [
       "<table>\n",
       "    <thead>\n",
       "        <tr>\n",
       "            <th>pop</th>\n",
       "        </tr>\n",
       "    </thead>\n",
       "    <tbody>\n",
       "        <tr>\n",
       "            <td>1386.4</td>\n",
       "        </tr>\n",
       "        <tr>\n",
       "            <td>66.87</td>\n",
       "        </tr>\n",
       "        <tr>\n",
       "            <td>66.06</td>\n",
       "        </tr>\n",
       "        <tr>\n",
       "            <td>1338.66</td>\n",
       "        </tr>\n",
       "        <tr>\n",
       "            <td>325.15</td>\n",
       "        </tr>\n",
       "    </tbody>\n",
       "</table>"
      ],
      "text/plain": [
       "[(1386.4,), (66.87,), (66.06,), (1338.66,), (325.15,)]"
      ]
     },
     "execution_count": 19,
     "metadata": {},
     "output_type": "execute_result"
    }
   ],
   "source": [
    "output2"
   ]
  },
  {
   "cell_type": "code",
   "execution_count": 21,
   "id": "22fe55fe",
   "metadata": {},
   "outputs": [
    {
     "name": "stdout",
     "output_type": "stream",
     "text": [
      " * sqlite:///C:\\Users\\bilene\\book.db\n",
      "Done.\n"
     ]
    },
    {
     "data": {
      "text/html": [
       "<table>\n",
       "    <thead>\n",
       "        <tr>\n",
       "            <th>name</th>\n",
       "        </tr>\n",
       "    </thead>\n",
       "    <tbody>\n",
       "        <tr>\n",
       "            <td>Mary</td>\n",
       "        </tr>\n",
       "        <tr>\n",
       "            <td>John</td>\n",
       "        </tr>\n",
       "        <tr>\n",
       "            <td>Mary</td>\n",
       "        </tr>\n",
       "        <tr>\n",
       "            <td>John</td>\n",
       "        </tr>\n",
       "        <tr>\n",
       "            <td>Mary</td>\n",
       "        </tr>\n",
       "    </tbody>\n",
       "</table>"
      ],
      "text/plain": [
       "[('Mary',), ('John',), ('Mary',), ('John',), ('Mary',)]"
      ]
     },
     "execution_count": 21,
     "metadata": {},
     "output_type": "execute_result"
    }
   ],
   "source": [
    "%%sql\n",
    "SELECT name FROM topnames\n",
    "LIMIT 5"
   ]
  },
  {
   "cell_type": "code",
   "execution_count": 25,
   "id": "6dd90b43",
   "metadata": {},
   "outputs": [
    {
     "name": "stdout",
     "output_type": "stream",
     "text": [
      " * sqlite:///C:\\Users\\bilene\\book.db\n",
      "Done.\n"
     ]
    },
    {
     "data": {
      "text/html": [
       "<table>\n",
       "    <thead>\n",
       "        <tr>\n",
       "            <th>year</th>\n",
       "            <th>name</th>\n",
       "            <th>sex</th>\n",
       "        </tr>\n",
       "    </thead>\n",
       "    <tbody>\n",
       "        <tr>\n",
       "            <td>1880</td>\n",
       "            <td>Mary</td>\n",
       "            <td>Female</td>\n",
       "        </tr>\n",
       "        <tr>\n",
       "            <td>1880</td>\n",
       "            <td>John</td>\n",
       "            <td>Male</td>\n",
       "        </tr>\n",
       "        <tr>\n",
       "            <td>1881</td>\n",
       "            <td>Mary</td>\n",
       "            <td>Female</td>\n",
       "        </tr>\n",
       "        <tr>\n",
       "            <td>1881</td>\n",
       "            <td>John</td>\n",
       "            <td>Male</td>\n",
       "        </tr>\n",
       "        <tr>\n",
       "            <td>1882</td>\n",
       "            <td>Mary</td>\n",
       "            <td>Female</td>\n",
       "        </tr>\n",
       "    </tbody>\n",
       "</table>"
      ],
      "text/plain": [
       "[(1880, 'Mary', 'Female'),\n",
       " (1880, 'John', 'Male'),\n",
       " (1881, 'Mary', 'Female'),\n",
       " (1881, 'John', 'Male'),\n",
       " (1882, 'Mary', 'Female')]"
      ]
     },
     "execution_count": 25,
     "metadata": {},
     "output_type": "execute_result"
    }
   ],
   "source": [
    "%%sql\n",
    "SELECT year, name, sex FROM topnames\n",
    "LIMIT 5"
   ]
  },
  {
   "cell_type": "code",
   "execution_count": 26,
   "id": "66c2afe6",
   "metadata": {},
   "outputs": [
    {
     "name": "stdout",
     "output_type": "stream",
     "text": [
      " * sqlite:///C:\\Users\\bilene\\book.db\n",
      "Done.\n"
     ]
    },
    {
     "data": {
      "text/html": [
       "<table>\n",
       "    <thead>\n",
       "        <tr>\n",
       "            <th>Year</th>\n",
       "            <th>name</th>\n",
       "            <th>sex</th>\n",
       "        </tr>\n",
       "    </thead>\n",
       "    <tbody>\n",
       "        <tr>\n",
       "            <td>1880</td>\n",
       "            <td>Mary</td>\n",
       "            <td>Female</td>\n",
       "        </tr>\n",
       "        <tr>\n",
       "            <td>1880</td>\n",
       "            <td>John</td>\n",
       "            <td>Male</td>\n",
       "        </tr>\n",
       "        <tr>\n",
       "            <td>1881</td>\n",
       "            <td>Mary</td>\n",
       "            <td>Female</td>\n",
       "        </tr>\n",
       "        <tr>\n",
       "            <td>1881</td>\n",
       "            <td>John</td>\n",
       "            <td>Male</td>\n",
       "        </tr>\n",
       "        <tr>\n",
       "            <td>1882</td>\n",
       "            <td>Mary</td>\n",
       "            <td>Female</td>\n",
       "        </tr>\n",
       "    </tbody>\n",
       "</table>"
      ],
      "text/plain": [
       "[(1880, 'Mary', 'Female'),\n",
       " (1880, 'John', 'Male'),\n",
       " (1881, 'Mary', 'Female'),\n",
       " (1881, 'John', 'Male'),\n",
       " (1882, 'Mary', 'Female')]"
      ]
     },
     "execution_count": 26,
     "metadata": {},
     "output_type": "execute_result"
    }
   ],
   "source": [
    "%%sql\n",
    "SELECT year AS Year, name, sex FROM topnames\n",
    "LIMIT 5"
   ]
  },
  {
   "cell_type": "code",
   "execution_count": 29,
   "id": "fbe59eeb",
   "metadata": {},
   "outputs": [
    {
     "name": "stdout",
     "output_type": "stream",
     "text": [
      " * sqlite:///C:\\Users\\bilene\\book.db\n",
      "Done.\n"
     ]
    },
    {
     "data": {
      "text/html": [
       "<table>\n",
       "    <thead>\n",
       "        <tr>\n",
       "            <th>year</th>\n",
       "            <th>sex</th>\n",
       "            <th>name</th>\n",
       "            <th>count</th>\n",
       "        </tr>\n",
       "    </thead>\n",
       "    <tbody>\n",
       "        <tr>\n",
       "            <td>1880</td>\n",
       "            <td>Female</td>\n",
       "            <td>Mary</td>\n",
       "            <td>7065</td>\n",
       "        </tr>\n",
       "        <tr>\n",
       "            <td>1880</td>\n",
       "            <td>Male</td>\n",
       "            <td>John</td>\n",
       "            <td>9655</td>\n",
       "        </tr>\n",
       "        <tr>\n",
       "            <td>1881</td>\n",
       "            <td>Female</td>\n",
       "            <td>Mary</td>\n",
       "            <td>6919</td>\n",
       "        </tr>\n",
       "        <tr>\n",
       "            <td>1881</td>\n",
       "            <td>Male</td>\n",
       "            <td>John</td>\n",
       "            <td>8769</td>\n",
       "        </tr>\n",
       "        <tr>\n",
       "            <td>1882</td>\n",
       "            <td>Female</td>\n",
       "            <td>Mary</td>\n",
       "            <td>8148</td>\n",
       "        </tr>\n",
       "    </tbody>\n",
       "</table>"
      ],
      "text/plain": [
       "[(1880, 'Female', 'Mary', 7065),\n",
       " (1880, 'Male', 'John', 9655),\n",
       " (1881, 'Female', 'Mary', 6919),\n",
       " (1881, 'Male', 'John', 8769),\n",
       " (1882, 'Female', 'Mary', 8148)]"
      ]
     },
     "execution_count": 29,
     "metadata": {},
     "output_type": "execute_result"
    }
   ],
   "source": [
    "%%sql\n",
    "SELECT * FROM topnames\n",
    "LIMIT 5"
   ]
  },
  {
   "cell_type": "code",
   "execution_count": 36,
   "id": "3bfb4250",
   "metadata": {},
   "outputs": [
    {
     "name": "stdout",
     "output_type": "stream",
     "text": [
      " * sqlite:///C:\\Users\\bilene\\book.db\n",
      "Done.\n"
     ]
    },
    {
     "data": {
      "text/html": [
       "<table>\n",
       "    <thead>\n",
       "        <tr>\n",
       "            <th>name</th>\n",
       "        </tr>\n",
       "    </thead>\n",
       "    <tbody>\n",
       "        <tr>\n",
       "            <td>countries</td>\n",
       "        </tr>\n",
       "        <tr>\n",
       "            <td>indicators</td>\n",
       "        </tr>\n",
       "        <tr>\n",
       "            <td>indicators0</td>\n",
       "        </tr>\n",
       "        <tr>\n",
       "            <td>topnames</td>\n",
       "        </tr>\n",
       "    </tbody>\n",
       "</table>"
      ],
      "text/plain": [
       "[('countries',), ('indicators',), ('indicators0',), ('topnames',)]"
      ]
     },
     "execution_count": 36,
     "metadata": {},
     "output_type": "execute_result"
    }
   ],
   "source": [
    "%%sql\n",
    "-- Here is a one line comment\n",
    "/* Here is a multi line comment\n",
    " Another one */\n",
    "    \n",
    "-- The following returns all tables that exist\n",
    "-- in the database\n",
    "SELECT name FROM sqlite_master WHERE type='table'"
   ]
  },
  {
   "cell_type": "code",
   "execution_count": null,
   "id": "372872ff",
   "metadata": {},
   "outputs": [],
   "source": []
  }
 ],
 "metadata": {
  "kernelspec": {
   "display_name": "Python 3",
   "language": "python",
   "name": "python3"
  },
  "language_info": {
   "codemirror_mode": {
    "name": "ipython",
    "version": 3
   },
   "file_extension": ".py",
   "mimetype": "text/x-python",
   "name": "python",
   "nbconvert_exporter": "python",
   "pygments_lexer": "ipython3",
   "version": "3.9.11"
  }
 },
 "nbformat": 4,
 "nbformat_minor": 5
}
